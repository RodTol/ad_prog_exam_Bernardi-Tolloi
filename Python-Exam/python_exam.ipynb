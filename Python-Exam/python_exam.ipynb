{
 "cells": [
  {
   "cell_type": "markdown",
   "metadata": {},
   "source": [
    "## Reverse dictionary\n",
    "\n",
    "Given the following `dict` `d` compute the reverse dictionary `rd`. Let `k_d` and `v_d` be the keys and values of `d`, respectively. The keys of `rd` `k_rd` are all the integer numbers contained in all the `v_d`. The values of `rd` are lists containing all the keys `k_d` where `k_rd` is inside the corresponding `v_d`. For example\n",
    "```python\n",
    "d  = {\"a\": [1, 2, 3], \"b\": [45, 6], \"c\": [2, 45]}\n",
    "\n",
    "rd = {1: [\"a\"], 2: [\"a\", \"c\"], 3: [\"a\"], 6: [\"b\"], 45: [\"b\", \"c\"]}\n",
    "```\n",
    "\n",
    "If you do not write the proper code, the computational time might exceed the time given for the exam! Numpy is not required.\n",
    "\n",
    "Hints: \n",
    "- comprehensions are your friend.\n",
    "- work on a small dictionay, once you are satisfied with your code, apply it to the big `d`\n",
    "- you can use the `test_exam.py` to test your implementation running `pytest test_exam.py` "
   ]
  },
  {
   "cell_type": "code",
   "execution_count": 10,
   "metadata": {},
   "outputs": [],
   "source": [
    " d  = {\"a\": [1, 2, 3], \"b\": [45, 6], \"c\": [2, 45]}"
   ]
  },
  {
   "cell_type": "code",
   "execution_count": 15,
   "metadata": {
    "tags": []
   },
   "outputs": [
    {
     "output_type": "stream",
     "name": "stdout",
     "text": [
      "{1: ['a'], 2: ['a', 'c'], 3: ['a'], 6: ['b'], 45: ['b', 'c']}\n"
     ]
    }
   ],
   "source": [
    "def reverse_dict(d):\n",
    "    """This funtion takes as input a dictionary and returns a reverse dictionary."""\n"
    "    \n",
    "    #We create a set with all the keys of the reverse dictionary with a set comprehension.\n",
    "    possible_keys = {w for v in d.values() for w in v}\n",
    "\n",
    "    #We create the inverse tuples with a list comprehension.\n",
    "    tuple_list = [(ke, [v for v in d.keys() if d[v].count(ke)!=0]) for ke in possible_keys]\n",
    "    \n",
    "    #We create the reverse dictionary with a dictionary comprehension.\n",
    "    rev_dict = {i[0] : i[1] for i in tuple_list }\n",
    "    \n",
    "    #The program could be implemented in just one line as shown in the next line, but we decided to do 3 steps for a better readability.\n",
    "    #There is also no significant gain in execution time.\n",
    "    #rev_dict = {i[0] : i[1] for i in [(ke, [v for v in d.keys() if d[v].count(ke)!=0]) for ke in {w for v in d.values() for w in v}] }\n",
    "    return rev_dict\n",
    "    \n",
    "print(reverse_dict(d))\n",
    "\n",
    "    "
   ]
  },
  {
   "cell_type": "code",
   "execution_count": 22,
   "metadata": {
    "tags": []
   },
   "outputs": [
    {
     "output_type": "stream",
     "name": "stdout",
     "text": [
      "['A', 'B', 'C', 'D', 'E', 'F', 'G', 'H', 'I', 'J', 'K', 'L', 'M', 'N', 'O', 'P', 'Q', 'R', 'S', 'T', 'U', 'V', 'W', 'X', 'Y', 'Z', 'a', 'b', 'c', 'd', 'e', 'f', 'g', 'h', 'i', 'j', 'k', 'l', 'm', 'n', 'o', 'p', 'q', 'r', 's', 't', 'u', 'v', 'w', 'x', 'y', 'z']\nA0 : [7, 190]\nA1 : [63, 58, 36, 189, 27]\nA2 : [23, 152, 109, 9, 8, 24, 56, 60, 130]\nA3 : [7, 144, 51, 184, 167, 180, 140, 108, 57, 115]\nA4 : [72, 2, 195, 41, 179, 109, 88, 72, 40, 56]\nA5 : [27, 24, 98, 25, 92, 89]\nA6 : [68, 12, 187, 118, 138, 32, 97, 21, 142, 76]\nA7 : [93, 148, 50, 181, 18, 12, 170, 59, 198, 75]\nA8 : [60, 26]\nA9 : [72, 117, 163, 94, 42, 95, 91]\nA10 : [172, 69, 180, 175]\n"
     ]
    }
   ],
   "source": [
    "chars = \"qwertyuiopasdfghjklzxcvbnm\"\n",
    "chars = sorted(chars.upper() + chars)\n",
    "print(chars)\n",
    "\n",
    "keys = [c + str(n) for c in chars for n in range(100)]\n",
    "\n",
    "import random\n",
    "\n",
    "random.seed(42)\n",
    "\n",
    "d = {k: [random.randint(1, 200) for _ in range(random.randint(1, 10))] for k in keys}\n",
    "\n",
    "for i, (k, v) in enumerate(d.items()):\n",
    "    print(k, \":\", v)\n",
    "    if i == 10:\n",
    "        break"
   ]
  },
  {
   "cell_type": "code",
   "execution_count": 18,
   "metadata": {},
   "outputs": [
    {
     "output_type": "stream",
     "name": "stdout",
     "text": [
      "\u001b[1m============================= test session starts ==============================\u001b[0m\n",
      "platform linux -- Python 3.9.4, pytest-6.2.4, py-1.10.0, pluggy-0.13.1\n",
      "rootdir: /home/rodolfo/Advanced-Programming/Esame/Python-Exam\n",
      "plugins: anyio-3.0.1\n",
      "collected 2 items                                                              \u001b[0m\n",
      "\n",
      "test_exam.py \u001b[32m.\u001b[0m\u001b[32m.\u001b[0m\u001b[32m                                                          [100%]\u001b[0m\n",
      "\n",
      "\u001b[32m============================== \u001b[32m\u001b[1m2 passed\u001b[0m\u001b[32m in 0.18s\u001b[0m\u001b[32m ===============================\u001b[0m\n"
     ]
    }
   ],
   "source": [
    "!pytest"
   ]
  }
 ],
 "metadata": {
  "kernelspec": {
   "display_name": "Python 3",
   "language": "python",
   "name": "python3"
  },
  "language_info": {
   "codemirror_mode": {
    "name": "ipython",
    "version": 3
   },
   "file_extension": ".py",
   "mimetype": "text/x-python",
   "name": "python",
   "nbconvert_exporter": "python",
   "pygments_lexer": "ipython3",
   "version": "3.8.6"
  }
 },
 "nbformat": 4,
 "nbformat_minor": 4
}
