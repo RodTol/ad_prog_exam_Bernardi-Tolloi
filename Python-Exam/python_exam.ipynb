{
 "cells": [
  {
   "cell_type": "markdown",
   "metadata": {},
   "source": [
    "## Reverse dictionary\n",
    "\n",
    "Given the following `dict` `d` compute the reverse dictionary `rd`. Let `k_d` and `v_d` be the keys and values of `d`, respectively. The keys of `rd` `k_rd` are all the integer numbers contained in all the `v_d`. The values of `rd` are lists containing all the keys `k_d` where `k_rd` is inside the corresponding `v_d`. For example\n",
    "```python\n",
    "d  = {\"a\": [1, 2, 3], \"b\": [45, 6], \"c\": [2, 45]}\n",
    "\n",
    "rd = {1: [\"a\"], 2: [\"a\", \"c\"], 3: [\"a\"], 6: [\"b\"], 45: [\"b\", \"c\"]}\n",
    "```\n",
    "\n",
    "If you do not write the proper code, the computational time might exceed the time given for the exam! Numpy is not required.\n",
    "\n",
    "Hints: \n",
    "- comprehensions are your friend.\n",
    "- work on a small dictionay, once you are satisfied with your code, apply it to the big `d`\n",
    "- you can use the `test_exam.py` to test your implementation running `pytest test_exam.py` "
   ]
  },
  {
   "cell_type": "code",
   "execution_count": 1,
   "metadata": {},
   "outputs": [],
   "source": [
    " d  = {\"a\": [1, 2, 3], \"b\": [45, 6], \"c\": [2, 45]}\n",
    " d2 = {\"a\" : 1, \"b\" : \"lettera\", \"c\" : [12,43]}\n"
   ]
  },
  {
   "cell_type": "code",
   "execution_count": 2,
   "metadata": {},
   "outputs": [
    {
     "output_type": "stream",
     "name": "stdout",
     "text": [
      "dict_values([[1, 2, 3], [45, 6], [2, 45]])\n"
     ]
    }
   ],
   "source": [
    "print(d.values())"
   ]
  },
  {
   "cell_type": "code",
   "execution_count": 3,
   "metadata": {
    "tags": []
   },
   "outputs": [
    {
     "output_type": "stream",
     "name": "stdout",
     "text": [
      "{1: ['a'], 2: ['a', 'c'], 3: ['a'], 45: ['b', 'c'], 6: ['b']}\n"
     ]
    }
   ],
   "source": [
    "def reverse_dict(d):\n",
    "\n",
    "    possible_values = d.keys()\n",
    "\n",
    "    d_values = d.values()\n",
    "    possible_keys = []\n",
    "\n",
    "    for v in d_values :\n",
    "        for w in v :\n",
    "            if (possible_keys.count(w)==0) :\n",
    "                possible_keys.append(w)\n",
    "    #print(possible_keys)\n",
    "\n",
    "    #creiamo le coppie inverse\n",
    "\n",
    "    tuple_list = [(ke, []) for ke in possible_keys]\n",
    "\n",
    "    for v in possible_values : #possible values sono a b c\n",
    "        for j,w in enumerate(possible_keys) : #possible key sono 1,2,3,45,6\n",
    "            if (d[v].count(w)!=0) :\n",
    "                tuple_list[j][1].append(v)\n",
    "\n",
    "    #print(tuple_list)\n",
    "\n",
    "    rev_dict = {i[0] : i[1] for i in tuple_list }\n",
    "    return rev_dict\n",
    "\n",
    "\n",
    "#cosa succede se ho una list di list di list ??\n",
    "#cosa succede se ho elementi singoli e non list di list\n",
    "\n",
    "print(reverse_dict(d))\n",
    "\n",
    "    "
   ]
  },
  {
   "cell_type": "code",
   "execution_count": 4,
   "metadata": {
    "tags": []
   },
   "outputs": [
    {
     "output_type": "stream",
     "name": "stdout",
     "text": [
      "['A', 'B', 'C', 'D', 'E', 'F', 'G', 'H', 'I', 'J', 'K', 'L', 'M', 'N', 'O', 'P', 'Q', 'R', 'S', 'T', 'U', 'V', 'W', 'X', 'Y', 'Z', 'a', 'b', 'c', 'd', 'e', 'f', 'g', 'h', 'i', 'j', 'k', 'l', 'm', 'n', 'o', 'p', 'q', 'r', 's', 't', 'u', 'v', 'w', 'x', 'y', 'z']\n",
      "A0 : [7, 190]\n",
      "A1 : [63, 58, 36, 189, 27]\n",
      "A2 : [23, 152, 109, 9, 8, 24, 56, 60, 130]\n",
      "A3 : [7, 144, 51, 184, 167, 180, 140, 108, 57, 115]\n",
      "A4 : [72, 2, 195, 41, 179, 109, 88, 72, 40, 56]\n",
      "A5 : [27, 24, 98, 25, 92, 89]\n",
      "A6 : [68, 12, 187, 118, 138, 32, 97, 21, 142, 76]\n",
      "A7 : [93, 148, 50, 181, 18, 12, 170, 59, 198, 75]\n",
      "A8 : [60, 26]\n",
      "A9 : [72, 117, 163, 94, 42, 95, 91]\n",
      "A10 : [172, 69, 180, 175]\n"
     ]
    }
   ],
   "source": [
    "#Ocho che è mooooooolto lungo\n",
    "chars = \"qwertyuiopasdfghjklzxcvbnm\"\n",
    "chars = sorted(chars.upper() + chars)\n",
    "print(chars)\n",
    "\n",
    "keys = [c + str(n) for c in chars for n in range(100)]\n",
    "\n",
    "import random\n",
    "\n",
    "random.seed(42)\n",
    "\n",
    "d = {k: [random.randint(1, 200) for _ in range(random.randint(1, 10))] for k in keys}\n",
    "\n",
    "for i, (k, v) in enumerate(d.items()):\n",
    "    print(k, \":\", v)\n",
    "    if i == 10:\n",
    "        break"
   ]
  },
  {
   "cell_type": "code",
   "execution_count": 5,
   "metadata": {
    "tags": []
   },
   "outputs": [],
   "source": [
    "rd = reverse_dict(d)\n",
    "#sorted(rd.values())"
   ]
  },
  {
   "cell_type": "code",
   "execution_count": null,
   "metadata": {},
   "outputs": [],
   "source": []
  }
 ],
 "metadata": {
  "kernelspec": {
   "display_name": "Python 3",
   "language": "python",
   "name": "python3"
  },
  "language_info": {
   "codemirror_mode": {
    "name": "ipython",
    "version": 3
   },
   "file_extension": ".py",
   "mimetype": "text/x-python",
   "name": "python",
   "nbconvert_exporter": "python",
   "pygments_lexer": "ipython3",
   "version": "3.8.6"
  }
 },
 "nbformat": 4,
 "nbformat_minor": 4
}